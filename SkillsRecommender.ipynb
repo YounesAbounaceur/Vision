{
 "cells": [
  {
   "cell_type": "code",
   "execution_count": 57,
   "metadata": {},
   "outputs": [],
   "source": [
    "import pandas as pd\n",
    "from sklearn.metrics.pairwise import linear_kernel\n",
    "from sklearn.feature_extraction.text import TfidfVectorizer"
   ]
  },
  {
   "cell_type": "code",
   "execution_count": 116,
   "metadata": {},
   "outputs": [],
   "source": [
    "data = pd.read_csv('C:/Users/USER/Desktop/MOHIM/PFA/ScrapeStorm/Complet/HardDataSet.csv',low_memory=False,encoding='latin-1')"
   ]
  },
  {
   "cell_type": "code",
   "execution_count": 117,
   "metadata": {},
   "outputs": [
    {
     "name": "stdout",
     "output_type": "stream",
     "text": [
      "['Title', 'Company_Name', 'Skills', 'Country']\n"
     ]
    }
   ],
   "source": [
    "print(data.columns.tolist())"
   ]
  },
  {
   "cell_type": "code",
   "execution_count": 118,
   "metadata": {},
   "outputs": [],
   "source": [
    "list_companies = data['Company_Name']\n",
    "list_jobs = data['Title']"
   ]
  },
  {
   "cell_type": "code",
   "execution_count": 119,
   "metadata": {},
   "outputs": [
    {
     "data": {
      "text/plain": [
       "249"
      ]
     },
     "execution_count": 119,
     "metadata": {},
     "output_type": "execute_result"
    }
   ],
   "source": [
    "len(list_jobs)"
   ]
  },
  {
   "cell_type": "code",
   "execution_count": 120,
   "metadata": {},
   "outputs": [
    {
     "name": "stdout",
     "output_type": "stream",
     "text": [
      "web developer\n",
      "web developer\n",
      "web developer\n",
      "web developer\n",
      "web developer\n",
      "web developer\n",
      "web developer\n",
      "web developer\n",
      "web developer\n",
      "web developer\n",
      "web developer\n",
      "web developer\n",
      "web developer\n",
      "web developer\n",
      "web developer\n",
      "web developer\n",
      "web developer\n",
      "web developer\n",
      "web developer\n",
      "web developer\n",
      "web developer\n",
      "web developer\n",
      "web developer\n",
      "web developer\n",
      "web developer\n",
      "web developer\n",
      "web developer\n",
      "web developer\n",
      "web developer\n",
      "web developer\n",
      "web developer\n",
      "web developer\n",
      "web developer\n",
      "web developer\n",
      "web developer\n",
      "web developer\n",
      "web developer\n",
      "web developer\n",
      "web developer\n",
      "web developer\n",
      "web developer\n",
      "web developer\n",
      "web developer\n",
      "web developer\n",
      "web developer\n",
      "web developer\n",
      "web developer\n",
      "web developer\n",
      "Data scientist\n",
      "Data scientist\n",
      "Data scientist\n",
      "Data scientist\n",
      "Data scientist\n",
      "Data scientist\n",
      "Data scientist\n",
      "Data scientist\n",
      "Data scientist\n",
      "Data scientist\n",
      "Data scientist\n",
      "Data scientist\n",
      "Data scientist\n",
      "Data scientist\n",
      "Data scientist\n",
      "Data scientist\n",
      "Data scientist\n",
      "Data scientist\n",
      "Data scientist\n",
      "Data scientist\n",
      "Data scientist\n",
      "Data scientist\n",
      "Data scientist\n",
      "Data scientist\n",
      "Data scientist\n",
      "Data scientist\n",
      "Data scientist\n",
      "Data scientist\n",
      "Data scientist\n",
      "Data scientist\n",
      "Data scientist\n",
      "Data scientist\n",
      "Data scientist\n",
      "Data scientist\n",
      "Data scientist\n",
      "Data scientist\n",
      "Data scientist\n",
      "Data scientist\n",
      "Data scientist\n",
      "Data scientist\n",
      "Data scientist\n",
      "Data scientist\n",
      "Data scientist\n",
      "Data scientist\n",
      "Data scientist\n",
      "Data scientist\n",
      "Data scientist\n",
      "Data scientist\n",
      "Data scientist\n",
      "Data scientist\n",
      "Data scientist\n",
      "Data scientist\n",
      "Security engineer\n",
      "Security engineer\n",
      "Security engineer\n",
      "Security engineer\n",
      "Security engineer\n",
      "Security engineer\n",
      "Security engineer\n",
      "Security engineer\n",
      "Security engineer\n",
      "Security engineer\n",
      "Security engineer\n",
      "Security engineer\n",
      "Security engineer\n",
      "Security engineer\n",
      "Security engineer\n",
      "Security engineer\n",
      "Security engineer\n",
      "Security engineer\n",
      "Security engineer\n",
      "Security engineer\n",
      "Security engineer\n",
      "Security engineer\n",
      "Security engineer\n",
      "Security engineer\n",
      "Security engineer\n",
      "Security engineer\n",
      "Security engineer\n",
      "Security engineer\n",
      "Security engineer\n",
      "Security engineer\n",
      "Security engineer\n",
      "Security engineer\n",
      "Security engineer\n",
      "Security engineer\n",
      "Security engineer\n",
      "Security engineer\n",
      "Security engineer\n",
      "Security engineer\n",
      "Security engineer\n",
      "Security engineer\n",
      "Security engineer\n",
      "Security engineer\n",
      "Security engineer\n",
      "Software engineer\n",
      "Software engineer\n",
      "Software engineer\n",
      "Software engineer\n",
      "Software engineer\n",
      "Software engineer\n",
      "Software engineer\n",
      "Software engineer\n",
      "Software engineer\n",
      "Software engineer\n",
      "Software engineer\n",
      "Software engineer\n",
      "Software engineer\n",
      "Software engineer\n",
      "Software engineer\n",
      "Software engineer\n",
      "Software engineer\n",
      "Software engineer\n",
      "Software engineer\n",
      "Software engineer\n",
      "Software engineer\n",
      "Software engineer\n",
      "Software engineer\n",
      "Software engineer\n",
      "Software engineer\n",
      "Software engineer\n",
      "Software engineer\n",
      "Software engineer\n",
      "Software engineer\n",
      "Software engineer\n",
      "Software engineer\n",
      "Software engineer\n",
      "Software engineer\n",
      "Software engineer\n",
      "Software engineer in Test\n",
      "Software engineer\n",
      "Software engineer\n",
      "Software engineer\n",
      "Software engineer\n",
      "Software engineer\n",
      "Software engineer\n",
      "Software engineer\n",
      "Software engineer\n",
      "Software engineer\n",
      "Software engineer\n",
      "Software engineer\n",
      "Software engineer\n",
      "Software engineer\n",
      "Software engineer\n",
      "Software engineer\n",
      "Software engineer\n",
      "Software engineer\n",
      "Software engineer\n",
      "BI consultant\n",
      "BI consultant\n",
      "BI consultant\n",
      "BI consultant\n",
      "BI consultant\n",
      "BI consultant\n",
      "BI consultant\n",
      "BI consultant\n",
      "BI consultant\n",
      "BI consultant\n",
      "BI consultant\n",
      "BI consultant\n",
      "BI consultant\n",
      "BI consultant\n",
      "BI consultant\n",
      "BI consultant\n",
      "BI consultant\n",
      "BI consultant\n",
      "BI consultant\n",
      "BI consultant\n",
      "BI consultant\n",
      "BI consultant\n",
      "BI consultant\n",
      "BI consultant\n",
      "BI consultant\n",
      "BI consultant\n",
      "BI consultant\n",
      "BI consultant\n",
      "BI consultant\n",
      "BI consultant\n",
      "BI consultant\n",
      "BI consultant\n",
      "BI consultant\n",
      "BI consultant\n",
      "BI consultant\n",
      "BI consultant\n",
      "BI consultant\n",
      "BI consultant\n",
      "BI consultant\n",
      "BI consultant\n",
      "BI consultant\n",
      "BI consultant\n",
      "BI consultant\n",
      "BI consultant\n",
      "BI consultant\n",
      "BI consultant\n",
      "BI consultant\n",
      "BI consultant\n",
      "BI consultant\n",
      "BI consultant\n",
      "BI consultant\n",
      "BI consultant\n",
      "BI consultant\n"
     ]
    }
   ],
   "source": [
    "for country in list_jobs:\n",
    "    print(country)"
   ]
  },
  {
   "cell_type": "code",
   "execution_count": 121,
   "metadata": {},
   "outputs": [],
   "source": [
    "def get_unique_jobs(list_jobs):\n",
    "    unique_jobs = []\n",
    "    for job in list_jobs:\n",
    "        if(job not in unique_jobs):\n",
    "            unique_jobs.append(job)\n",
    "    return unique_jobs\n"
   ]
  },
  {
   "cell_type": "code",
   "execution_count": 122,
   "metadata": {},
   "outputs": [],
   "source": [
    "def get_score_job(job,vector_user_job,vectorizer):\n",
    "    vector_unique_job = vectorizer.transform(job)\n",
    "    list_similarity = linear_kernel(vector_user_job,vector_unique_job).flatten()\n",
    "    score_similarity = sum(list_similarity)/len(list_similarity)\n",
    "    return score_similarity,job\n",
    "    "
   ]
  },
  {
   "cell_type": "code",
   "execution_count": 123,
   "metadata": {},
   "outputs": [],
   "source": [
    "def get_similar_jobs(user_job,unique_jobs):\n",
    "\n",
    "    vectorizer = TfidfVectorizer(stop_words='english', use_idf=True, smooth_idf=True)\n",
    "    vectorizer.fit(unique_jobs)\n",
    "    list_general = []\n",
    "    #list_general = [[]]\n",
    "    #list_general.append([])\n",
    "    vector_user_job = vectorizer.transform(user_job)\n",
    "    for job in unique_jobs:\n",
    "        job = [job]\n",
    "        #list_general[1].append(job)\n",
    "        #vector_unique_job = vectorizer.transform(job)\n",
    "        #list_similarity = linear_kernel(vector_user_job,vector_unique_job).flatten()\n",
    "        #score_similarity = sum(list_similarity)/len(list_similarity)\n",
    "        #list_general[0].append(score_similarity)\n",
    "        list_general.append(get_score_job(job,vector_user_job,vectorizer))\n",
    "    return list_general"
   ]
  },
  {
   "cell_type": "code",
   "execution_count": 124,
   "metadata": {},
   "outputs": [],
   "source": [
    "unique_jobs = []\n",
    "unique_jobs = get_unique_jobs(list_jobs)"
   ]
  },
  {
   "cell_type": "code",
   "execution_count": 125,
   "metadata": {},
   "outputs": [
    {
     "name": "stdout",
     "output_type": "stream",
     "text": [
      "web developer\n",
      "Data scientist\n",
      "Security engineer\n",
      "Software engineer\n",
      "Software engineer in Test\n",
      "BI consultant\n"
     ]
    }
   ],
   "source": [
    "for job in unique_jobs:\n",
    "    print(job)"
   ]
  },
  {
   "cell_type": "code",
   "execution_count": 126,
   "metadata": {},
   "outputs": [
    {
     "name": "stdout",
     "output_type": "stream",
     "text": [
      "['web developer']\n"
     ]
    }
   ],
   "source": [
    "user_job = \"back end developer\"\n",
    "user_job = [user_job]\n",
    "general = get_similar_jobs(user_job,unique_jobs)\n",
    "#job_simalarity_score = sorted(general[0], reverse = True)\n",
    "general = sorted(general, reverse = True)\n",
    "#sorted(general, key=lambda student: general[0])\n",
    "print(general[0][1])\n",
    "\n",
    "    "
   ]
  },
  {
   "cell_type": "code",
   "execution_count": null,
   "metadata": {},
   "outputs": [],
   "source": []
  },
  {
   "cell_type": "code",
   "execution_count": null,
   "metadata": {},
   "outputs": [],
   "source": []
  }
 ],
 "metadata": {
  "kernelspec": {
   "display_name": "Python 3",
   "language": "python",
   "name": "python3"
  },
  "language_info": {
   "codemirror_mode": {
    "name": "ipython",
    "version": 3
   },
   "file_extension": ".py",
   "mimetype": "text/x-python",
   "name": "python",
   "nbconvert_exporter": "python",
   "pygments_lexer": "ipython3",
   "version": "3.7.3"
  }
 },
 "nbformat": 4,
 "nbformat_minor": 4
}
