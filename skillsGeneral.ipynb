{
 "cells": [
  {
   "cell_type": "code",
   "execution_count": 1,
   "metadata": {},
   "outputs": [],
   "source": [
    "import pandas as pd\n",
    "from sklearn.metrics.pairwise import linear_kernel\n",
    "from sklearn.feature_extraction.text import TfidfVectorizer"
   ]
  },
  {
   "cell_type": "code",
   "execution_count": 18,
   "metadata": {},
   "outputs": [],
   "source": [
    "data = pd.read_csv('HardDataSet.csv',low_memory=False,encoding='latin-1')"
   ]
  },
  {
   "cell_type": "code",
   "execution_count": 19,
   "metadata": {},
   "outputs": [],
   "source": [
    "list_companies = data['Company_Name']\n",
    "list_jobs = data['Title']\n",
    "list_skills = data['Skills']"
   ]
  },
  {
   "cell_type": "code",
   "execution_count": 20,
   "metadata": {},
   "outputs": [],
   "source": [
    "def get_unique_jobs(list_jobs):\n",
    "    unique_jobs = []\n",
    "    for job in list_jobs:\n",
    "        if(job not in unique_jobs):\n",
    "            unique_jobs.append(job)\n",
    "    return unique_jobs\n"
   ]
  },
  {
   "cell_type": "code",
   "execution_count": 21,
   "metadata": {},
   "outputs": [],
   "source": [
    "unique_jobs = []\n",
    "unique_jobs = get_unique_jobs(list_jobs)\n",
    "\n",
    "    "
   ]
  },
  {
   "cell_type": "code",
   "execution_count": 46,
   "metadata": {},
   "outputs": [],
   "source": [
    "def get_skills_of_specific_job(list_skills):\n",
    "    list_skills_of_given_job = []\n",
    "    key_element = \"\"\n",
    "    for i in range(0,len(list_jobs)):\n",
    "        \n",
    "        list_cleaned = list_skills[i].replace(\";\",\" \")\n",
    "        list_skills_of_given_job.append(list_cleaned)\n",
    "        key_element = key_element + list_cleaned\n",
    "    return key_element\n",
    "  \n",
    "           "
   ]
  },
  {
   "cell_type": "code",
   "execution_count": 47,
   "metadata": {},
   "outputs": [],
   "source": [
    "def sort_coo(coo_matrix):\n",
    "    tuples = zip(coo_matrix.col, coo_matrix.data)\n",
    "    return sorted(tuples, key=lambda x: (x[1], x[0]), reverse=True)"
   ]
  },
  {
   "cell_type": "code",
   "execution_count": 48,
   "metadata": {},
   "outputs": [],
   "source": [
    "def extract_topn_from_vector(feature_names, sorted_items, topn):\n",
    "    \"\"\"get the feature names and tf-idf score of top n items\"\"\"\n",
    "    \n",
    "    #use only topn items from vector\n",
    "    sorted_items = sorted_items[:topn]\n",
    "\n",
    "    score_vals = []\n",
    "    feature_vals = []\n",
    "\n",
    "    for idx, score in sorted_items:\n",
    "        fname = feature_names[idx] \n",
    "        \n",
    "        #keep track of feature name and its corresponding score\n",
    "        score_vals.append(round(score, 3))\n",
    "        feature_vals.append(feature_names[idx])\n",
    "\n",
    "    #create a tuples of feature,score\n",
    "    #results = zip(feature_vals,score_vals)\n",
    "    results= {}\n",
    "    for idx in range(len(feature_vals)):\n",
    "        results[feature_vals[idx]]=score_vals[idx]\n",
    "    \n",
    "    return results"
   ]
  },
  {
   "cell_type": "code",
   "execution_count": 49,
   "metadata": {},
   "outputs": [],
   "source": [
    "def recommand_skills(my_list,topN):\n",
    "    #generate tf-idf for the given document\n",
    "    vectorizer = TfidfVectorizer(use_idf=True, smooth_idf=True)\n",
    "    my_list =[my_list]\n",
    "    cv = vectorizer.fit(my_list)\n",
    "    feature_names = cv.get_feature_names()\n",
    "    tf_idf_vector = []\n",
    "   #apply tf-idf vectorizer on all the skills\n",
    "    for i in range(len(my_list)):\n",
    "        text = [my_list[i]]\n",
    "        tf_idf_vector = vectorizer.transform(text)\n",
    "        #gather all the vectors in one vector\n",
    "        if i == 0 :\n",
    "            final_element = tf_idf_vector\n",
    "        else :\n",
    "            final_element = final_element + tf_idf_vector\n",
    "    #sort the tf-idf vectors by descending order of scores\n",
    "    sorted_items = sort_coo(final_element.tocoo())\n",
    "    #extract the top n keywords\n",
    "    recommended_skills = extract_topn_from_vector(feature_names,sorted_items,topN)\n",
    "    return recommended_skills"
   ]
  },
  {
   "cell_type": "code",
   "execution_count": 50,
   "metadata": {},
   "outputs": [
    {
     "name": "stdout",
     "output_type": "stream",
     "text": [
      "the most required skills on the market:\n",
      "python\n",
      "javascript\n",
      "css\n",
      "java\n",
      "html\n",
      "sql\n",
      "react\n",
      "ssis\n",
      "ssas\n",
      "power_bi\n",
      "docker\n",
      "tableau\n",
      "ssrs\n",
      "machine_learning\n",
      "english\n",
      "azure\n",
      "git\n",
      "scrum\n",
      "php\n",
      "angularjs\n"
     ]
    }
   ],
   "source": [
    "#the main code of the programm\n",
    "    \n",
    "list_skills_of_given_job = get_skills_of_specific_job(list_skills)\n",
    "#list_skills_of_given_job\n",
    "final_list = recommand_skills(list_skills_of_given_job,20)\n",
    "print(\"the most required skills on the market:\")\n",
    "for element in final_list:\n",
    "    print(element)\n",
    " \n",
    "\n",
    "\n"
   ]
  },
  {
   "cell_type": "code",
   "execution_count": null,
   "metadata": {},
   "outputs": [],
   "source": []
  },
  {
   "cell_type": "code",
   "execution_count": null,
   "metadata": {},
   "outputs": [],
   "source": []
  }
 ],
 "metadata": {
  "kernelspec": {
   "display_name": "Python 3",
   "language": "python",
   "name": "python3"
  },
  "language_info": {
   "codemirror_mode": {
    "name": "ipython",
    "version": 3
   },
   "file_extension": ".py",
   "mimetype": "text/x-python",
   "name": "python",
   "nbconvert_exporter": "python",
   "pygments_lexer": "ipython3",
   "version": "3.7.3"
  }
 },
 "nbformat": 4,
 "nbformat_minor": 4
}
