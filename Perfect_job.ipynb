{
 "cells": [
  {
   "cell_type": "code",
   "execution_count": 1,
   "metadata": {},
   "outputs": [],
   "source": [
    "import pandas as pd\n",
    "from sklearn.metrics.pairwise import linear_kernel\n",
    "from sklearn.feature_extraction.text import TfidfVectorizer"
   ]
  },
  {
   "cell_type": "code",
   "execution_count": 7,
   "metadata": {},
   "outputs": [],
   "source": [
    "data = pd.read_csv('HardDataSet.csv',low_memory=False,encoding='latin-1')"
   ]
  },
  {
   "cell_type": "code",
   "execution_count": 8,
   "metadata": {},
   "outputs": [],
   "source": [
    "list_companies = data['Company_Name']\n",
    "list_jobs = data['Title']\n",
    "list_skills = data['Skills']"
   ]
  },
  {
   "cell_type": "code",
   "execution_count": 9,
   "metadata": {},
   "outputs": [],
   "source": [
    "def get_similarity_scrore_for_each_post(company_name,job_title,user_vector,vectorizer,job_required_skils):\n",
    "    job_required_skils = [job_required_skils]\n",
    "    job_vector = vectorizer.transform(job_required_skils)\n",
    "    from sklearn.metrics.pairwise import linear_kernel\n",
    "    list_similarity = linear_kernel(job_vector,user_vector).flatten()\n",
    "    score=sum(list_similarity)/len(list_similarity)\n",
    "    return score,company_name,job_title"
   ]
  },
  {
   "cell_type": "code",
   "execution_count": 10,
   "metadata": {},
   "outputs": [],
   "source": [
    "def get_perfect_job(list_companies,list_jobs,list_skills,skills_of_user):\n",
    "    vectorizer = TfidfVectorizer(use_idf=True, smooth_idf=True)\n",
    "    vectorizer.fit(list_skills)\n",
    "    user_vector = vectorizer.transform(skills_of_user)\n",
    "    list_post_score =[]\n",
    "    \n",
    "    for i in range(0,len(list_jobs)):\n",
    "        S = get_similarity_scrore_for_each_post(list_companies[i],list_jobs[i],user_vector,vectorizer,list_skills[i])\n",
    "        list_post_score.append(S)\n",
    "        \n",
    "    list_post_score = sorted(list_post_score, reverse = True)\n",
    "    i=0\n",
    "    for element in list_post_score:\n",
    "        if i < 5:\n",
    "            \n",
    "            #element[1]=element[1].replace(\"_\",\" \")\n",
    "            seperated_string = element[1].replace(\"_\",\" \")\n",
    "            print(\"Nom d'entreprise: \"+seperated_string+\" le profil demandé: \"+element[2])\n",
    "            i = i+1\n",
    "        else: break\n",
    "        \n",
    "        \n",
    "    "
   ]
  },
  {
   "cell_type": "code",
   "execution_count": null,
   "metadata": {},
   "outputs": [
    {
     "name": "stdout",
     "output_type": "stream",
     "text": [
      "veuillez donner vos compétences:\n"
     ]
    }
   ],
   "source": [
    "print(\"veuillez donner vos compétences:\")\n",
    "user_skills = input()\n",
    "print(\"Les meilleures offres pour vous sont :\")\n",
    "user_skills = [user_skills]\n",
    "get_perfect_job(list_companies,list_jobs,list_skills,user_skills)"
   ]
  },
  {
   "cell_type": "code",
   "execution_count": null,
   "metadata": {},
   "outputs": [],
   "source": []
  },
  {
   "cell_type": "code",
   "execution_count": null,
   "metadata": {},
   "outputs": [],
   "source": []
  }
 ],
 "metadata": {
  "kernelspec": {
   "display_name": "Python 3",
   "language": "python",
   "name": "python3"
  },
  "language_info": {
   "codemirror_mode": {
    "name": "ipython",
    "version": 3
   },
   "file_extension": ".py",
   "mimetype": "text/x-python",
   "name": "python",
   "nbconvert_exporter": "python",
   "pygments_lexer": "ipython3",
   "version": "3.7.3"
  }
 },
 "nbformat": 4,
 "nbformat_minor": 4
}
